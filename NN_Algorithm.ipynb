{
  "nbformat": 4,
  "nbformat_minor": 0,
  "metadata": {
    "colab": {
      "provenance": []
    },
    "kernelspec": {
      "name": "python3",
      "display_name": "Python 3"
    },
    "language_info": {
      "name": "python"
    },
    "accelerator": "GPU",
    "gpuClass": "standard"
  },
  "cells": [
    {
      "cell_type": "code",
      "execution_count": 1,
      "metadata": {
        "colab": {
          "base_uri": "https://localhost:8080/"
        },
        "id": "9d1zD56R2HEo",
        "outputId": "fe33ef6e-ad36-4845-ba37-55af1d1efa46"
      },
      "outputs": [
        {
          "output_type": "stream",
          "name": "stdout",
          "text": [
            "Looking in indexes: https://pypi.org/simple, https://us-python.pkg.dev/colab-wheels/public/simple/\n",
            "Collecting import-ipynb\n",
            "  Downloading import_ipynb-0.1.4-py3-none-any.whl (4.1 kB)\n",
            "Requirement already satisfied: nbformat in /usr/local/lib/python3.8/dist-packages (from import-ipynb) (5.7.1)\n",
            "Requirement already satisfied: IPython in /usr/local/lib/python3.8/dist-packages (from import-ipynb) (7.9.0)\n",
            "Requirement already satisfied: setuptools>=18.5 in /usr/local/lib/python3.8/dist-packages (from IPython->import-ipynb) (57.4.0)\n",
            "Requirement already satisfied: traitlets>=4.2 in /usr/local/lib/python3.8/dist-packages (from IPython->import-ipynb) (5.7.1)\n",
            "Requirement already satisfied: pexpect in /usr/local/lib/python3.8/dist-packages (from IPython->import-ipynb) (4.8.0)\n",
            "Requirement already satisfied: pygments in /usr/local/lib/python3.8/dist-packages (from IPython->import-ipynb) (2.6.1)\n",
            "Requirement already satisfied: decorator in /usr/local/lib/python3.8/dist-packages (from IPython->import-ipynb) (4.4.2)\n",
            "Requirement already satisfied: prompt-toolkit<2.1.0,>=2.0.0 in /usr/local/lib/python3.8/dist-packages (from IPython->import-ipynb) (2.0.10)\n",
            "Requirement already satisfied: pickleshare in /usr/local/lib/python3.8/dist-packages (from IPython->import-ipynb) (0.7.5)\n",
            "Collecting jedi>=0.10\n",
            "  Downloading jedi-0.18.2-py2.py3-none-any.whl (1.6 MB)\n",
            "\u001b[2K     \u001b[90m━━━━━━━━━━━━━━━━━━━━━━━━━━━━━━━━━━━━━━━━\u001b[0m \u001b[32m1.6/1.6 MB\u001b[0m \u001b[31m36.2 MB/s\u001b[0m eta \u001b[36m0:00:00\u001b[0m\n",
            "\u001b[?25hRequirement already satisfied: backcall in /usr/local/lib/python3.8/dist-packages (from IPython->import-ipynb) (0.2.0)\n",
            "Requirement already satisfied: fastjsonschema in /usr/local/lib/python3.8/dist-packages (from nbformat->import-ipynb) (2.16.2)\n",
            "Requirement already satisfied: jupyter-core in /usr/local/lib/python3.8/dist-packages (from nbformat->import-ipynb) (5.1.3)\n",
            "Requirement already satisfied: jsonschema>=2.6 in /usr/local/lib/python3.8/dist-packages (from nbformat->import-ipynb) (4.3.3)\n",
            "Requirement already satisfied: parso<0.9.0,>=0.8.0 in /usr/local/lib/python3.8/dist-packages (from jedi>=0.10->IPython->import-ipynb) (0.8.3)\n",
            "Requirement already satisfied: attrs>=17.4.0 in /usr/local/lib/python3.8/dist-packages (from jsonschema>=2.6->nbformat->import-ipynb) (22.2.0)\n",
            "Requirement already satisfied: pyrsistent!=0.17.0,!=0.17.1,!=0.17.2,>=0.14.0 in /usr/local/lib/python3.8/dist-packages (from jsonschema>=2.6->nbformat->import-ipynb) (0.19.3)\n",
            "Requirement already satisfied: importlib-resources>=1.4.0 in /usr/local/lib/python3.8/dist-packages (from jsonschema>=2.6->nbformat->import-ipynb) (5.10.2)\n",
            "Requirement already satisfied: wcwidth in /usr/local/lib/python3.8/dist-packages (from prompt-toolkit<2.1.0,>=2.0.0->IPython->import-ipynb) (0.2.5)\n",
            "Requirement already satisfied: six>=1.9.0 in /usr/local/lib/python3.8/dist-packages (from prompt-toolkit<2.1.0,>=2.0.0->IPython->import-ipynb) (1.15.0)\n",
            "Requirement already satisfied: platformdirs>=2.5 in /usr/local/lib/python3.8/dist-packages (from jupyter-core->nbformat->import-ipynb) (2.6.2)\n",
            "Requirement already satisfied: ptyprocess>=0.5 in /usr/local/lib/python3.8/dist-packages (from pexpect->IPython->import-ipynb) (0.7.0)\n",
            "Requirement already satisfied: zipp>=3.1.0 in /usr/local/lib/python3.8/dist-packages (from importlib-resources>=1.4.0->jsonschema>=2.6->nbformat->import-ipynb) (3.11.0)\n",
            "Installing collected packages: jedi, import-ipynb\n",
            "Successfully installed import-ipynb-0.1.4 jedi-0.18.2\n"
          ]
        }
      ],
      "source": [
        "!pip install import-ipynb"
      ]
    },
    {
      "cell_type": "code",
      "source": [
        "from google.colab import drive\n",
        "drive.mount('/content/gdrive')\n",
        "%cd gdrive/MyDrive/machine_learning/Exam_Project"
      ],
      "metadata": {
        "colab": {
          "base_uri": "https://localhost:8080/"
        },
        "id": "uIAH4Xii2XTd",
        "outputId": "43fd5fd7-a453-46d4-9412-0bf904920c33"
      },
      "execution_count": 2,
      "outputs": [
        {
          "output_type": "stream",
          "name": "stdout",
          "text": [
            "Mounted at /content/gdrive\n",
            "/content/gdrive/MyDrive/machine_learning/Exam_Project\n"
          ]
        }
      ]
    },
    {
      "cell_type": "code",
      "source": [
        "import tensorflow.keras as keras\n",
        "import matplotlib.pyplot as plt\n",
        "import numpy as np\n",
        "import seaborn as sns\n",
        "\n",
        "import torchtext\n",
        "from sklearn.metrics import accuracy_score, f1_score, classification_report\n",
        "import matplotlib.pyplot as plt\n",
        "import numpy as np\n",
        "import seaborn as sns\n",
        "import torch\n",
        "from torch import nn\n",
        "import pandas as pd\n",
        "import random\n",
        "\n",
        "import import_ipynb\n",
        "import utils\n",
        "\n",
        "from torch.nn.utils.rnn import pad_sequence, pack_padded_sequence\n",
        "\n",
        "# to get reproducible results:\n",
        "torch.manual_seed(1234)\n",
        "np.random.seed(1234)"
      ],
      "metadata": {
        "colab": {
          "base_uri": "https://localhost:8080/"
        },
        "id": "Pv_1_4b32hak",
        "outputId": "d49680fe-7e9a-4afb-8ec0-e8b4f42f9147"
      },
      "execution_count": 3,
      "outputs": [
        {
          "output_type": "stream",
          "name": "stdout",
          "text": [
            "importing Jupyter notebook from utils.ipynb\n"
          ]
        }
      ]
    },
    {
      "cell_type": "code",
      "source": [
        "speech = pd.read_csv(\"./cleaned_speeches.csv\")\n",
        "speech.head()"
      ],
      "metadata": {
        "colab": {
          "base_uri": "https://localhost:8080/",
          "height": 206
        },
        "id": "buyas1Ob2n-2",
        "outputId": "1201ec81-182d-4709-e38e-738661d24abd"
      },
      "execution_count": 4,
      "outputs": [
        {
          "output_type": "execute_result",
          "data": {
            "text/plain": [
              "         Date       President  Party  \\\n",
              "0  1829-03-04  Andrew Jackson      0   \n",
              "1  1829-05-11  Andrew Jackson      0   \n",
              "2  1829-12-08  Andrew Jackson      0   \n",
              "3  1830-05-06  Andrew Jackson      0   \n",
              "4  1830-05-27  Andrew Jackson      0   \n",
              "\n",
              "                                               Title  \\\n",
              "0                            First Inaugural Address   \n",
              "1  Proclamation Regarding Duties on Austrian Vessels   \n",
              "2                   First Annual Message to Congress   \n",
              "3  Message Regarding Treaties with the Choctaw Na...   \n",
              "4  Veto Message Regarding Funding of Infrastructu...   \n",
              "\n",
              "                                          Transcript  \n",
              "0  Fellow Citizens: About to undertake the arduou...  \n",
              "1  Whereas by an act of the Congress of the Unite...  \n",
              "2  Fellow citizens of the Senate and House of Rep...  \n",
              "3  To the Senate of the United States. The accomp...  \n",
              "4  To the House of Representatives. I have mature...  "
            ],
            "text/html": [
              "\n",
              "  <div id=\"df-41dd7d35-6861-465a-87dd-6e9f7499d5d8\">\n",
              "    <div class=\"colab-df-container\">\n",
              "      <div>\n",
              "<style scoped>\n",
              "    .dataframe tbody tr th:only-of-type {\n",
              "        vertical-align: middle;\n",
              "    }\n",
              "\n",
              "    .dataframe tbody tr th {\n",
              "        vertical-align: top;\n",
              "    }\n",
              "\n",
              "    .dataframe thead th {\n",
              "        text-align: right;\n",
              "    }\n",
              "</style>\n",
              "<table border=\"1\" class=\"dataframe\">\n",
              "  <thead>\n",
              "    <tr style=\"text-align: right;\">\n",
              "      <th></th>\n",
              "      <th>Date</th>\n",
              "      <th>President</th>\n",
              "      <th>Party</th>\n",
              "      <th>Title</th>\n",
              "      <th>Transcript</th>\n",
              "    </tr>\n",
              "  </thead>\n",
              "  <tbody>\n",
              "    <tr>\n",
              "      <th>0</th>\n",
              "      <td>1829-03-04</td>\n",
              "      <td>Andrew Jackson</td>\n",
              "      <td>0</td>\n",
              "      <td>First Inaugural Address</td>\n",
              "      <td>Fellow Citizens: About to undertake the arduou...</td>\n",
              "    </tr>\n",
              "    <tr>\n",
              "      <th>1</th>\n",
              "      <td>1829-05-11</td>\n",
              "      <td>Andrew Jackson</td>\n",
              "      <td>0</td>\n",
              "      <td>Proclamation Regarding Duties on Austrian Vessels</td>\n",
              "      <td>Whereas by an act of the Congress of the Unite...</td>\n",
              "    </tr>\n",
              "    <tr>\n",
              "      <th>2</th>\n",
              "      <td>1829-12-08</td>\n",
              "      <td>Andrew Jackson</td>\n",
              "      <td>0</td>\n",
              "      <td>First Annual Message to Congress</td>\n",
              "      <td>Fellow citizens of the Senate and House of Rep...</td>\n",
              "    </tr>\n",
              "    <tr>\n",
              "      <th>3</th>\n",
              "      <td>1830-05-06</td>\n",
              "      <td>Andrew Jackson</td>\n",
              "      <td>0</td>\n",
              "      <td>Message Regarding Treaties with the Choctaw Na...</td>\n",
              "      <td>To the Senate of the United States. The accomp...</td>\n",
              "    </tr>\n",
              "    <tr>\n",
              "      <th>4</th>\n",
              "      <td>1830-05-27</td>\n",
              "      <td>Andrew Jackson</td>\n",
              "      <td>0</td>\n",
              "      <td>Veto Message Regarding Funding of Infrastructu...</td>\n",
              "      <td>To the House of Representatives. I have mature...</td>\n",
              "    </tr>\n",
              "  </tbody>\n",
              "</table>\n",
              "</div>\n",
              "      <button class=\"colab-df-convert\" onclick=\"convertToInteractive('df-41dd7d35-6861-465a-87dd-6e9f7499d5d8')\"\n",
              "              title=\"Convert this dataframe to an interactive table.\"\n",
              "              style=\"display:none;\">\n",
              "        \n",
              "  <svg xmlns=\"http://www.w3.org/2000/svg\" height=\"24px\"viewBox=\"0 0 24 24\"\n",
              "       width=\"24px\">\n",
              "    <path d=\"M0 0h24v24H0V0z\" fill=\"none\"/>\n",
              "    <path d=\"M18.56 5.44l.94 2.06.94-2.06 2.06-.94-2.06-.94-.94-2.06-.94 2.06-2.06.94zm-11 1L8.5 8.5l.94-2.06 2.06-.94-2.06-.94L8.5 2.5l-.94 2.06-2.06.94zm10 10l.94 2.06.94-2.06 2.06-.94-2.06-.94-.94-2.06-.94 2.06-2.06.94z\"/><path d=\"M17.41 7.96l-1.37-1.37c-.4-.4-.92-.59-1.43-.59-.52 0-1.04.2-1.43.59L10.3 9.45l-7.72 7.72c-.78.78-.78 2.05 0 2.83L4 21.41c.39.39.9.59 1.41.59.51 0 1.02-.2 1.41-.59l7.78-7.78 2.81-2.81c.8-.78.8-2.07 0-2.86zM5.41 20L4 18.59l7.72-7.72 1.47 1.35L5.41 20z\"/>\n",
              "  </svg>\n",
              "      </button>\n",
              "      \n",
              "  <style>\n",
              "    .colab-df-container {\n",
              "      display:flex;\n",
              "      flex-wrap:wrap;\n",
              "      gap: 12px;\n",
              "    }\n",
              "\n",
              "    .colab-df-convert {\n",
              "      background-color: #E8F0FE;\n",
              "      border: none;\n",
              "      border-radius: 50%;\n",
              "      cursor: pointer;\n",
              "      display: none;\n",
              "      fill: #1967D2;\n",
              "      height: 32px;\n",
              "      padding: 0 0 0 0;\n",
              "      width: 32px;\n",
              "    }\n",
              "\n",
              "    .colab-df-convert:hover {\n",
              "      background-color: #E2EBFA;\n",
              "      box-shadow: 0px 1px 2px rgba(60, 64, 67, 0.3), 0px 1px 3px 1px rgba(60, 64, 67, 0.15);\n",
              "      fill: #174EA6;\n",
              "    }\n",
              "\n",
              "    [theme=dark] .colab-df-convert {\n",
              "      background-color: #3B4455;\n",
              "      fill: #D2E3FC;\n",
              "    }\n",
              "\n",
              "    [theme=dark] .colab-df-convert:hover {\n",
              "      background-color: #434B5C;\n",
              "      box-shadow: 0px 1px 3px 1px rgba(0, 0, 0, 0.15);\n",
              "      filter: drop-shadow(0px 1px 2px rgba(0, 0, 0, 0.3));\n",
              "      fill: #FFFFFF;\n",
              "    }\n",
              "  </style>\n",
              "\n",
              "      <script>\n",
              "        const buttonEl =\n",
              "          document.querySelector('#df-41dd7d35-6861-465a-87dd-6e9f7499d5d8 button.colab-df-convert');\n",
              "        buttonEl.style.display =\n",
              "          google.colab.kernel.accessAllowed ? 'block' : 'none';\n",
              "\n",
              "        async function convertToInteractive(key) {\n",
              "          const element = document.querySelector('#df-41dd7d35-6861-465a-87dd-6e9f7499d5d8');\n",
              "          const dataTable =\n",
              "            await google.colab.kernel.invokeFunction('convertToInteractive',\n",
              "                                                     [key], {});\n",
              "          if (!dataTable) return;\n",
              "\n",
              "          const docLinkHtml = 'Like what you see? Visit the ' +\n",
              "            '<a target=\"_blank\" href=https://colab.research.google.com/notebooks/data_table.ipynb>data table notebook</a>'\n",
              "            + ' to learn more about interactive tables.';\n",
              "          element.innerHTML = '';\n",
              "          dataTable['output_type'] = 'display_data';\n",
              "          await google.colab.output.renderOutput(dataTable, element);\n",
              "          const docLink = document.createElement('div');\n",
              "          docLink.innerHTML = docLinkHtml;\n",
              "          element.appendChild(docLink);\n",
              "        }\n",
              "      </script>\n",
              "    </div>\n",
              "  </div>\n",
              "  "
            ]
          },
          "metadata": {},
          "execution_count": 4
        }
      ]
    },
    {
      "cell_type": "code",
      "source": [
        "from keras.preprocessing.text import Tokenizer"
      ],
      "metadata": {
        "id": "oev1MjEB2q1R"
      },
      "execution_count": 5,
      "outputs": []
    },
    {
      "cell_type": "code",
      "source": [
        "t  = Tokenizer()"
      ],
      "metadata": {
        "id": "lzDE_Q3m2toR"
      },
      "execution_count": 6,
      "outputs": []
    },
    {
      "cell_type": "code",
      "source": [
        "t.fit_on_texts(speech.Transcript)"
      ],
      "metadata": {
        "id": "qzt82EIZ2xDw"
      },
      "execution_count": 7,
      "outputs": []
    },
    {
      "cell_type": "code",
      "source": [
        "print(\"The document count\",t.document_count)"
      ],
      "metadata": {
        "colab": {
          "base_uri": "https://localhost:8080/"
        },
        "id": "oYb3Q5QO20rF",
        "outputId": "66b1b8c3-7a23-4617-dcc5-056d8f20ca4c"
      },
      "execution_count": 8,
      "outputs": [
        {
          "output_type": "stream",
          "name": "stdout",
          "text": [
            "The document count 867\n"
          ]
        }
      ]
    },
    {
      "cell_type": "code",
      "source": [
        "sequences = t.texts_to_sequences(speech.Transcript)"
      ],
      "metadata": {
        "id": "6mgzDdNI25OS"
      },
      "execution_count": 9,
      "outputs": []
    },
    {
      "cell_type": "code",
      "source": [
        "encoded_speech = t.sequences_to_matrix(sequences, mode='binary')"
      ],
      "metadata": {
        "id": "Wi35YPUS2-Zj"
      },
      "execution_count": 10,
      "outputs": []
    },
    {
      "cell_type": "markdown",
      "source": [
        "Now splitting into train, dev and test data:"
      ],
      "metadata": {
        "id": "xh5HYNbN3EnB"
      }
    },
    {
      "cell_type": "code",
      "source": [
        "y = speech['Party'].values\n",
        "X = encoded_speech\n",
        "X.shape, y.shape"
      ],
      "metadata": {
        "colab": {
          "base_uri": "https://localhost:8080/"
        },
        "id": "PztLh-5Q3KQB",
        "outputId": "67a768df-33f0-4b27-8f9f-8391fc84b60b"
      },
      "execution_count": 11,
      "outputs": [
        {
          "output_type": "execute_result",
          "data": {
            "text/plain": [
              "((867, 39663), (867,))"
            ]
          },
          "metadata": {},
          "execution_count": 11
        }
      ]
    },
    {
      "cell_type": "code",
      "source": [
        "type(X)"
      ],
      "metadata": {
        "colab": {
          "base_uri": "https://localhost:8080/"
        },
        "id": "jvl_32VO3NNM",
        "outputId": "81d1f454-ea0a-4f73-9ab2-baa69ec280ce"
      },
      "execution_count": 12,
      "outputs": [
        {
          "output_type": "execute_result",
          "data": {
            "text/plain": [
              "numpy.ndarray"
            ]
          },
          "metadata": {},
          "execution_count": 12
        }
      ]
    },
    {
      "cell_type": "code",
      "source": [
        "from sklearn.model_selection import train_test_split\n",
        "\n",
        "x_train, x_dev_test, y_train, y_dev_test = train_test_split(X, y, test_size=0.2,\n",
        "                                                    random_state=1234, stratify=y)\n",
        "\n",
        "x_dev, x_test, y_dev, y_test = train_test_split(x_dev_test, y_dev_test, test_size=0.5,\n",
        "                                                    random_state=1234, stratify=y_dev_test)"
      ],
      "metadata": {
        "id": "fWoVukPU3Pzj"
      },
      "execution_count": 13,
      "outputs": []
    },
    {
      "cell_type": "code",
      "source": [
        "print(x_train.shape)\n",
        "print(x_dev.shape)\n",
        "print(x_test.shape)\n",
        "print(y_train.shape)\n",
        "print(y_dev.shape)\n",
        "print(y_test.shape)"
      ],
      "metadata": {
        "colab": {
          "base_uri": "https://localhost:8080/"
        },
        "id": "u04bFIqZ3UH5",
        "outputId": "7e7e7058-f1b9-4a7d-c9bd-ad36dc9378a1"
      },
      "execution_count": 14,
      "outputs": [
        {
          "output_type": "stream",
          "name": "stdout",
          "text": [
            "(693, 39663)\n",
            "(87, 39663)\n",
            "(87, 39663)\n",
            "(693,)\n",
            "(87,)\n",
            "(87,)\n"
          ]
        }
      ]
    },
    {
      "cell_type": "code",
      "source": [
        "max([len(x) for x in x_test])"
      ],
      "metadata": {
        "colab": {
          "base_uri": "https://localhost:8080/"
        },
        "id": "wgNFg7763YNn",
        "outputId": "a7663021-ca8d-408c-8005-cd123097eac5"
      },
      "execution_count": 15,
      "outputs": [
        {
          "output_type": "execute_result",
          "data": {
            "text/plain": [
              "39663"
            ]
          },
          "metadata": {},
          "execution_count": 15
        }
      ]
    },
    {
      "cell_type": "code",
      "source": [
        "print(x_train[0][:100]) # \"sparse\" vector, because many zeros\n",
        "print(x_train[0].sum()) # what is this row sum? number of *distinct* words inside the review\n",
        "print(x_train.max()) # watch out! only records presence, not frequency, so max = 1"
      ],
      "metadata": {
        "colab": {
          "base_uri": "https://localhost:8080/"
        },
        "id": "DdsGOOWx3dPJ",
        "outputId": "f5491dfd-2ce1-43c0-d6d0-ff89c50cd099"
      },
      "execution_count": 16,
      "outputs": [
        {
          "output_type": "stream",
          "name": "stdout",
          "text": [
            "[0. 1. 1. 1. 1. 1. 1. 1. 1. 1. 1. 1. 1. 1. 1. 1. 1. 1. 1. 1. 1. 1. 1. 1.\n",
            " 1. 1. 1. 1. 1. 1. 1. 1. 1. 1. 1. 1. 1. 1. 1. 1. 1. 1. 1. 1. 1. 1. 1. 1.\n",
            " 1. 1. 1. 1. 1. 1. 1. 1. 1. 1. 1. 1. 1. 1. 1. 1. 1. 1. 1. 1. 1. 1. 1. 1.\n",
            " 1. 1. 1. 1. 1. 1. 1. 1. 1. 1. 1. 1. 1. 1. 1. 1. 1. 1. 1. 1. 1. 1. 1. 0.\n",
            " 1. 1. 0. 1.]\n",
            "3276.0\n",
            "1.0\n"
          ]
        }
      ]
    },
    {
      "cell_type": "code",
      "source": [
        "max_len = 2000\n",
        "\n",
        "from torch.nn.utils.rnn import pad_sequence\n",
        "import torch\n",
        "\n",
        "train_data = [sent[:max_len] for sent in x_train]\n",
        "dev_data = [sent[:max_len] for sent in x_dev]\n",
        "test_data = [sent[:max_len] for sent in x_test]\n",
        "\n",
        "x_train = pad_sequence([torch.tensor(sent) for sent in train_data], batch_first=True)\n",
        "x_dev = pad_sequence([torch.tensor(sent) for sent in dev_data], batch_first=True)\n",
        "x_test = pad_sequence([torch.tensor(sent) for sent in test_data], batch_first=True)"
      ],
      "metadata": {
        "id": "rF3DlJAa3kK4"
      },
      "execution_count": 17,
      "outputs": []
    },
    {
      "cell_type": "code",
      "source": [
        "def np2iter(x, y, shuffle=True):\n",
        "  x = torch.tensor(x, dtype=torch.long)\n",
        "  y = torch.tensor(y, dtype=torch.long)\n",
        "\n",
        "\n",
        "  ds = torch.utils.data.TensorDataset(x, y)\n",
        "  return torch.utils.data.DataLoader(ds, batch_size=64, shuffle=shuffle)\n",
        "\n",
        "train_iter = np2iter(x_train, y_train, shuffle=True)\n",
        "dev_iter =  np2iter(x_dev, y_dev, shuffle=False)\n",
        "test_iter =  np2iter(x_test, y_test, shuffle=False)"
      ],
      "metadata": {
        "colab": {
          "base_uri": "https://localhost:8080/"
        },
        "id": "ezd4gZAq3o7E",
        "outputId": "7575a2ed-3fcc-4b6d-fbff-c61442d426a2"
      },
      "execution_count": 24,
      "outputs": [
        {
          "output_type": "stream",
          "name": "stderr",
          "text": [
            "<ipython-input-24-eadee1b64191>:2: UserWarning: To copy construct from a tensor, it is recommended to use sourceTensor.clone().detach() or sourceTensor.clone().detach().requires_grad_(True), rather than torch.tensor(sourceTensor).\n",
            "  x = torch.tensor(x, dtype=torch.long)\n"
          ]
        }
      ]
    },
    {
      "cell_type": "code",
      "source": [
        "num_words = 10000"
      ],
      "metadata": {
        "id": "iSylYVSF30mu"
      },
      "execution_count": 20,
      "outputs": []
    },
    {
      "cell_type": "code",
      "source": [
        "class SimpleRNN(nn.Module):\n",
        "  def __init__(self, emb_dim=50):\n",
        "    super(SimpleRNN, self).__init__()\n",
        "\n",
        "    self.embeddings = nn.Embedding(num_embeddings=num_words, \n",
        "                                   embedding_dim=emb_dim, padding_idx=0)\n",
        "    \n",
        "    self.rnn = nn.RNN(input_size=emb_dim, hidden_size=emb_dim, num_layers=1,\n",
        "                      batch_first=True)\n",
        "    \n",
        "    self.linear_layer = nn.Linear(in_features=emb_dim, out_features=2)\n",
        "    \n",
        "\n",
        "  def forward(self, x):\n",
        "    len_x = (x !=0).sum(1)\n",
        "\n",
        "    x = self.embeddings(x)\n",
        "    x = pack_padded_sequence(x, len_x.cpu(), batch_first=True, \n",
        "                             enforce_sorted=False)\n",
        "    \n",
        "    _, x = self.rnn(x)\n",
        "    \n",
        "    x = x[0]\n",
        "    return self.linear_layer(x)"
      ],
      "metadata": {
        "id": "c5sa5hg04BfF"
      },
      "execution_count": 25,
      "outputs": []
    },
    {
      "cell_type": "code",
      "source": [
        "def val_acc(y_pred, y_test):\n",
        "  y_pred = np.argmax(y_pred, axis=1)\n",
        "  return accuracy_score(y_pred=y_pred, y_true=y_test)"
      ],
      "metadata": {
        "id": "9fSNKKtA4qnH"
      },
      "execution_count": 26,
      "outputs": []
    },
    {
      "cell_type": "code",
      "source": [
        "simple_rnn = SimpleRNN(emb_dim=50)\n",
        "\n",
        "simple_rnn = simple_rnn.cuda()\n",
        "\n",
        "history = utils.train(model=simple_rnn,\n",
        "              loss=nn.CrossEntropyLoss(),\n",
        "              val_metrics={\"cls\": nn.CrossEntropyLoss(), \"acc\": val_acc}, \n",
        "              optimizer=torch.optim.Adam(simple_rnn.parameters(), lr=0.0001),\n",
        "              train_ds=train_iter, \n",
        "              dev_ds=dev_iter,\n",
        "              num_epochs=20,\n",
        "              early_stopper=utils.EarlyStopper(metric_name=\"cls\", patience=5))"
      ],
      "metadata": {
        "colab": {
          "base_uri": "https://localhost:8080/"
        },
        "id": "Lhq_vFbh4xQ1",
        "outputId": "71cf45a9-1d67-472f-e67f-1237df931150"
      },
      "execution_count": 27,
      "outputs": [
        {
          "output_type": "stream",
          "name": "stdout",
          "text": [
            "=========\n",
            "epoch 1 train loss: 0.7012 val_cls: 0.6889 val_acc: 0.5402\n",
            "tensor(0.6889) None\n",
            "=========\n",
            "epoch 2 train loss: 0.6961 val_cls: 0.6879 val_acc: 0.5747\n",
            "tensor(0.6879) tensor(0.6889)\n",
            "=========\n",
            "epoch 3 train loss: 0.6928 val_cls: 0.6876 val_acc: 0.5517\n",
            "tensor(0.6876) tensor(0.6879)\n",
            "=========\n",
            "epoch 4 train loss: 0.6911 val_cls: 0.6881 val_acc: 0.5402\n",
            "tensor(0.6881) tensor(0.6876)\n",
            "=========\n",
            "epoch 5 train loss: 0.6903 val_cls: 0.6881 val_acc: 0.5402\n",
            "tensor(0.6881) tensor(0.6876)\n",
            "=========\n",
            "epoch 6 train loss: 0.6894 val_cls: 0.6889 val_acc: 0.5402\n",
            "tensor(0.6889) tensor(0.6876)\n",
            "=========\n",
            "epoch 7 train loss: 0.6889 val_cls: 0.6888 val_acc: 0.5632\n",
            "tensor(0.6888) tensor(0.6876)\n",
            "=========\n",
            "epoch 8 train loss: 0.6881 val_cls: 0.6890 val_acc: 0.5517\n",
            "tensor(0.6890) tensor(0.6876)\n",
            "EARLY STOPPING \n"
          ]
        }
      ]
    },
    {
      "cell_type": "code",
      "source": [
        "plt.plot(history['val_cls'],  label='val')\n",
        "plt.plot(history['train_loss'], label='train')\n",
        "plt.title('Loss')\n",
        "plt.xlabel('Epochs')\n",
        "plt.ylabel('Loss')\n",
        "plt.legend()\n",
        "plt.show()"
      ],
      "metadata": {
        "colab": {
          "base_uri": "https://localhost:8080/",
          "height": 295
        },
        "id": "417Z-6wI5MGZ",
        "outputId": "c60ba7b7-398d-4fd6-aae4-8ad7fcf13076"
      },
      "execution_count": 28,
      "outputs": [
        {
          "output_type": "display_data",
          "data": {
            "text/plain": [
              "<Figure size 432x288 with 1 Axes>"
            ],
            "image/png": "[encoded data removed]"
          },
          "metadata": {
            "needs_background": "light"
          }
        }
      ]
    },
    {
      "cell_type": "code",
      "source": [
        "pred = utils.test(simple_rnn, test_iter)\n",
        "pred = np.argmax(pred, axis=1)\n",
        "\n",
        "print(accuracy_score(y_pred=pred, y_true=y_test))"
      ],
      "metadata": {
        "colab": {
          "base_uri": "https://localhost:8080/"
        },
        "id": "whJ-IeIO5Qnd",
        "outputId": "7f1aafb2-e52d-45c3-8353-8c8a07700937"
      },
      "execution_count": 29,
      "outputs": [
        {
          "output_type": "stream",
          "name": "stdout",
          "text": [
            "0.5402298850574713\n"
          ]
        }
      ]
    },
    {
      "cell_type": "markdown",
      "source": [
        "Train loss does go down, albeit it very moderately. The val acc is not good, too stable and as a result the accuracy of the model is only 54%. This is not very good in comparison with our classical algorithm."
      ],
      "metadata": {
        "id": "N6tzHWi-5X4v"
      }
    },
    {
      "cell_type": "code",
      "source": [
        "sum(p.numel() for p in simple_rnn.parameters() if p.requires_grad)"
      ],
      "metadata": {
        "colab": {
          "base_uri": "https://localhost:8080/"
        },
        "id": "8cAlD1kp5VeM",
        "outputId": "dfd86174-2e71-4b77-caf9-e7ff5f824762"
      },
      "execution_count": 30,
      "outputs": [
        {
          "output_type": "execute_result",
          "data": {
            "text/plain": [
              "505202"
            ]
          },
          "metadata": {},
          "execution_count": 30
        }
      ]
    },
    {
      "cell_type": "markdown",
      "source": [
        "The model is too big, another model with less input neurons might help:"
      ],
      "metadata": {
        "id": "KIjy2meD51hi"
      }
    },
    {
      "cell_type": "code",
      "source": [
        "simple_rnn = SimpleRNN(emb_dim=10)\n",
        "\n",
        "simple_rnn = simple_rnn.cuda()\n",
        "\n",
        "history = utils.train(model=simple_rnn,\n",
        "              loss=nn.CrossEntropyLoss(),\n",
        "              val_metrics={\"cls\": nn.CrossEntropyLoss(), \"acc\": val_acc}, \n",
        "              optimizer=torch.optim.Adam(simple_rnn.parameters(), lr=0.0001),\n",
        "              train_ds=train_iter, \n",
        "              dev_ds=dev_iter,\n",
        "              num_epochs=50,\n",
        "              early_stopper=utils.EarlyStopper(metric_name=\"cls\", patience=5))"
      ],
      "metadata": {
        "colab": {
          "base_uri": "https://localhost:8080/"
        },
        "id": "LC1dVelP6Xm0",
        "outputId": "e9cdd0cd-343b-4b09-e7c6-c78018080b10"
      },
      "execution_count": 34,
      "outputs": [
        {
          "output_type": "stream",
          "name": "stdout",
          "text": [
            "=========\n",
            "epoch 1 train loss: 0.7036 val_cls: 0.7007 val_acc: 0.4598\n",
            "tensor(0.7007) None\n",
            "=========\n",
            "epoch 2 train loss: 0.7025 val_cls: 0.6996 val_acc: 0.4598\n",
            "tensor(0.6996) tensor(0.7007)\n",
            "=========\n",
            "epoch 3 train loss: 0.7012 val_cls: 0.6987 val_acc: 0.4598\n",
            "tensor(0.6987) tensor(0.6996)\n",
            "=========\n",
            "epoch 4 train loss: 0.7002 val_cls: 0.6977 val_acc: 0.4598\n",
            "tensor(0.6977) tensor(0.6987)\n",
            "=========\n",
            "epoch 5 train loss: 0.6993 val_cls: 0.6967 val_acc: 0.4598\n",
            "tensor(0.6967) tensor(0.6977)\n",
            "=========\n",
            "epoch 6 train loss: 0.6983 val_cls: 0.6959 val_acc: 0.4483\n",
            "tensor(0.6959) tensor(0.6967)\n",
            "=========\n",
            "epoch 7 train loss: 0.6974 val_cls: 0.6951 val_acc: 0.4483\n",
            "tensor(0.6951) tensor(0.6959)\n",
            "=========\n",
            "epoch 8 train loss: 0.6967 val_cls: 0.6943 val_acc: 0.4598\n",
            "tensor(0.6943) tensor(0.6951)\n",
            "=========\n",
            "epoch 9 train loss: 0.6959 val_cls: 0.6937 val_acc: 0.4598\n",
            "tensor(0.6937) tensor(0.6943)\n",
            "=========\n",
            "epoch 10 train loss: 0.6953 val_cls: 0.6930 val_acc: 0.5172\n",
            "tensor(0.6930) tensor(0.6937)\n",
            "=========\n",
            "epoch 11 train loss: 0.6947 val_cls: 0.6925 val_acc: 0.5402\n",
            "tensor(0.6925) tensor(0.6930)\n",
            "=========\n",
            "epoch 12 train loss: 0.6941 val_cls: 0.6920 val_acc: 0.5517\n",
            "tensor(0.6920) tensor(0.6925)\n",
            "=========\n",
            "epoch 13 train loss: 0.6936 val_cls: 0.6917 val_acc: 0.5632\n",
            "tensor(0.6917) tensor(0.6920)\n",
            "=========\n",
            "epoch 14 train loss: 0.6931 val_cls: 0.6912 val_acc: 0.5747\n",
            "tensor(0.6912) tensor(0.6917)\n",
            "=========\n",
            "epoch 15 train loss: 0.6927 val_cls: 0.6908 val_acc: 0.5747\n",
            "tensor(0.6908) tensor(0.6912)\n",
            "=========\n",
            "epoch 16 train loss: 0.6923 val_cls: 0.6905 val_acc: 0.5747\n",
            "tensor(0.6905) tensor(0.6908)\n",
            "=========\n",
            "epoch 17 train loss: 0.6920 val_cls: 0.6902 val_acc: 0.5517\n",
            "tensor(0.6902) tensor(0.6905)\n",
            "=========\n",
            "epoch 18 train loss: 0.6916 val_cls: 0.6899 val_acc: 0.5517\n",
            "tensor(0.6899) tensor(0.6902)\n",
            "=========\n",
            "epoch 19 train loss: 0.6914 val_cls: 0.6897 val_acc: 0.5517\n",
            "tensor(0.6897) tensor(0.6899)\n",
            "=========\n",
            "epoch 20 train loss: 0.6911 val_cls: 0.6895 val_acc: 0.5517\n",
            "tensor(0.6895) tensor(0.6897)\n",
            "=========\n",
            "epoch 21 train loss: 0.6909 val_cls: 0.6893 val_acc: 0.5517\n",
            "tensor(0.6893) tensor(0.6895)\n",
            "=========\n",
            "epoch 22 train loss: 0.6906 val_cls: 0.6891 val_acc: 0.5517\n",
            "tensor(0.6891) tensor(0.6893)\n",
            "=========\n",
            "epoch 23 train loss: 0.6905 val_cls: 0.6890 val_acc: 0.5517\n",
            "tensor(0.6890) tensor(0.6891)\n",
            "=========\n",
            "epoch 24 train loss: 0.6903 val_cls: 0.6888 val_acc: 0.5517\n",
            "tensor(0.6888) tensor(0.6890)\n",
            "=========\n",
            "epoch 25 train loss: 0.6901 val_cls: 0.6887 val_acc: 0.5517\n",
            "tensor(0.6887) tensor(0.6888)\n",
            "=========\n",
            "epoch 26 train loss: 0.6899 val_cls: 0.6886 val_acc: 0.5517\n",
            "tensor(0.6886) tensor(0.6887)\n",
            "=========\n",
            "epoch 27 train loss: 0.6898 val_cls: 0.6885 val_acc: 0.5517\n",
            "tensor(0.6885) tensor(0.6886)\n",
            "=========\n",
            "epoch 28 train loss: 0.6897 val_cls: 0.6885 val_acc: 0.5517\n",
            "tensor(0.6885) tensor(0.6885)\n",
            "=========\n",
            "epoch 29 train loss: 0.6895 val_cls: 0.6884 val_acc: 0.5517\n",
            "tensor(0.6884) tensor(0.6885)\n",
            "=========\n",
            "epoch 30 train loss: 0.6894 val_cls: 0.6884 val_acc: 0.5517\n",
            "tensor(0.6884) tensor(0.6884)\n",
            "=========\n",
            "epoch 31 train loss: 0.6894 val_cls: 0.6883 val_acc: 0.5517\n",
            "tensor(0.6883) tensor(0.6884)\n",
            "=========\n",
            "epoch 32 train loss: 0.6892 val_cls: 0.6883 val_acc: 0.5517\n",
            "tensor(0.6883) tensor(0.6883)\n",
            "=========\n",
            "epoch 33 train loss: 0.6891 val_cls: 0.6882 val_acc: 0.5517\n",
            "tensor(0.6882) tensor(0.6883)\n",
            "=========\n",
            "epoch 34 train loss: 0.6890 val_cls: 0.6882 val_acc: 0.5517\n",
            "tensor(0.6882) tensor(0.6882)\n",
            "=========\n",
            "epoch 35 train loss: 0.6889 val_cls: 0.6882 val_acc: 0.5517\n",
            "tensor(0.6882) tensor(0.6882)\n",
            "=========\n",
            "epoch 36 train loss: 0.6889 val_cls: 0.6882 val_acc: 0.5517\n",
            "tensor(0.6882) tensor(0.6882)\n",
            "=========\n",
            "epoch 37 train loss: 0.6888 val_cls: 0.6882 val_acc: 0.5517\n",
            "tensor(0.6882) tensor(0.6882)\n",
            "=========\n",
            "epoch 38 train loss: 0.6887 val_cls: 0.6881 val_acc: 0.5517\n",
            "tensor(0.6881) tensor(0.6882)\n",
            "=========\n",
            "epoch 39 train loss: 0.6886 val_cls: 0.6882 val_acc: 0.5517\n",
            "tensor(0.6882) tensor(0.6881)\n",
            "=========\n",
            "epoch 40 train loss: 0.6886 val_cls: 0.6882 val_acc: 0.5517\n",
            "tensor(0.6882) tensor(0.6881)\n",
            "=========\n",
            "epoch 41 train loss: 0.6885 val_cls: 0.6881 val_acc: 0.5517\n",
            "tensor(0.6881) tensor(0.6881)\n",
            "=========\n",
            "epoch 42 train loss: 0.6884 val_cls: 0.6882 val_acc: 0.5517\n",
            "tensor(0.6882) tensor(0.6881)\n",
            "=========\n",
            "epoch 43 train loss: 0.6884 val_cls: 0.6881 val_acc: 0.5517\n",
            "tensor(0.6881) tensor(0.6881)\n",
            "=========\n",
            "epoch 44 train loss: 0.6883 val_cls: 0.6882 val_acc: 0.5517\n",
            "tensor(0.6882) tensor(0.6881)\n",
            "=========\n",
            "epoch 45 train loss: 0.6883 val_cls: 0.6882 val_acc: 0.5517\n",
            "tensor(0.6882) tensor(0.6881)\n",
            "=========\n",
            "epoch 46 train loss: 0.6883 val_cls: 0.6882 val_acc: 0.5517\n",
            "tensor(0.6882) tensor(0.6881)\n",
            "EARLY STOPPING \n"
          ]
        }
      ]
    },
    {
      "cell_type": "code",
      "source": [
        "plt.plot(history['val_cls'],  label='val')\n",
        "plt.plot(history['train_loss'], label='train')\n",
        "plt.title('Loss')\n",
        "plt.xlabel('Epochs')\n",
        "plt.ylabel('Loss')\n",
        "plt.legend()\n",
        "plt.show()"
      ],
      "metadata": {
        "colab": {
          "base_uri": "https://localhost:8080/",
          "height": 295
        },
        "id": "hmEIg3jX6h4b",
        "outputId": "d8d69e66-3232-49fc-d26a-3b02a3255e10"
      },
      "execution_count": 35,
      "outputs": [
        {
          "output_type": "display_data",
          "data": {
            "text/plain": [
              "<Figure size 432x288 with 1 Axes>"
            ],
            "image/png": "[encoded data removed]"
          },
          "metadata": {
            "needs_background": "light"
          }
        }
      ]
    },
    {
      "cell_type": "code",
      "source": [
        "pred = utils.test(simple_rnn, test_iter)\n",
        "pred = np.argmax(pred, axis=1)\n",
        "\n",
        "print(accuracy_score(y_pred=pred, y_true=y_test))"
      ],
      "metadata": {
        "colab": {
          "base_uri": "https://localhost:8080/"
        },
        "id": "Wj1uaewB6onb",
        "outputId": "13702f35-8693-4834-ba5d-a430cf216272"
      },
      "execution_count": 36,
      "outputs": [
        {
          "output_type": "stream",
          "name": "stdout",
          "text": [
            "0.5517241379310345\n"
          ]
        }
      ]
    },
    {
      "cell_type": "markdown",
      "source": [
        "Curve is healthy, accuracy is not good however. The model is learning but  still not capable of accurately predicting the correct output."
      ],
      "metadata": {
        "id": "96gPQg6g7tjH"
      }
    },
    {
      "cell_type": "code",
      "source": [
        "simple_rnn = SimpleRNN(emb_dim=5)\n",
        "\n",
        "simple_rnn = simple_rnn.cuda()\n",
        "\n",
        "history = utils.train(model=simple_rnn,\n",
        "              loss=nn.CrossEntropyLoss(),\n",
        "              val_metrics={\"cls\": nn.CrossEntropyLoss(), \"acc\": val_acc}, \n",
        "              optimizer=torch.optim.Adam(simple_rnn.parameters(), lr=0.001),\n",
        "              train_ds=train_iter, \n",
        "              dev_ds=dev_iter,\n",
        "              num_epochs=100,\n",
        "              early_stopper=utils.EarlyStopper(metric_name=\"cls\", patience=5))"
      ],
      "metadata": {
        "colab": {
          "base_uri": "https://localhost:8080/"
        },
        "id": "b7rh66b475qR",
        "outputId": "deb025ce-3c3f-4d74-ee8b-66f1e80a23ee"
      },
      "execution_count": 37,
      "outputs": [
        {
          "output_type": "stream",
          "name": "stdout",
          "text": [
            "=========\n",
            "epoch 1 train loss: 0.7323 val_cls: 0.7274 val_acc: 0.5517\n",
            "tensor(0.7274) None\n",
            "=========\n",
            "epoch 2 train loss: 0.7207 val_cls: 0.7180 val_acc: 0.5517\n",
            "tensor(0.7180) tensor(0.7274)\n",
            "=========\n",
            "epoch 3 train loss: 0.7112 val_cls: 0.7105 val_acc: 0.5517\n",
            "tensor(0.7105) tensor(0.7180)\n",
            "=========\n",
            "epoch 4 train loss: 0.7042 val_cls: 0.7043 val_acc: 0.5517\n",
            "tensor(0.7043) tensor(0.7105)\n",
            "=========\n",
            "epoch 5 train loss: 0.6988 val_cls: 0.6997 val_acc: 0.5517\n",
            "tensor(0.6997) tensor(0.7043)\n",
            "=========\n",
            "epoch 6 train loss: 0.6942 val_cls: 0.6967 val_acc: 0.5517\n",
            "tensor(0.6967) tensor(0.6997)\n",
            "=========\n",
            "epoch 7 train loss: 0.6912 val_cls: 0.6946 val_acc: 0.5517\n",
            "tensor(0.6946) tensor(0.6967)\n",
            "=========\n",
            "epoch 8 train loss: 0.6897 val_cls: 0.6933 val_acc: 0.5517\n",
            "tensor(0.6933) tensor(0.6946)\n",
            "=========\n",
            "epoch 9 train loss: 0.6884 val_cls: 0.6927 val_acc: 0.5517\n",
            "tensor(0.6927) tensor(0.6933)\n",
            "=========\n",
            "epoch 10 train loss: 0.6880 val_cls: 0.6923 val_acc: 0.5517\n",
            "tensor(0.6923) tensor(0.6927)\n",
            "=========\n",
            "epoch 11 train loss: 0.6875 val_cls: 0.6921 val_acc: 0.5517\n",
            "tensor(0.6921) tensor(0.6923)\n",
            "=========\n",
            "epoch 12 train loss: 0.6873 val_cls: 0.6920 val_acc: 0.5517\n",
            "tensor(0.6920) tensor(0.6921)\n",
            "=========\n",
            "epoch 13 train loss: 0.6873 val_cls: 0.6919 val_acc: 0.5517\n",
            "tensor(0.6919) tensor(0.6920)\n",
            "=========\n",
            "epoch 14 train loss: 0.6872 val_cls: 0.6918 val_acc: 0.5517\n",
            "tensor(0.6918) tensor(0.6919)\n",
            "=========\n",
            "epoch 15 train loss: 0.6872 val_cls: 0.6917 val_acc: 0.5517\n",
            "tensor(0.6917) tensor(0.6918)\n",
            "=========\n",
            "epoch 16 train loss: 0.6871 val_cls: 0.6917 val_acc: 0.5517\n",
            "tensor(0.6917) tensor(0.6917)\n",
            "=========\n",
            "epoch 17 train loss: 0.6871 val_cls: 0.6916 val_acc: 0.5517\n",
            "tensor(0.6916) tensor(0.6917)\n",
            "=========\n",
            "epoch 18 train loss: 0.6870 val_cls: 0.6916 val_acc: 0.5517\n",
            "tensor(0.6916) tensor(0.6916)\n",
            "=========\n",
            "epoch 19 train loss: 0.6870 val_cls: 0.6915 val_acc: 0.5517\n",
            "tensor(0.6915) tensor(0.6916)\n",
            "=========\n",
            "epoch 20 train loss: 0.6871 val_cls: 0.6916 val_acc: 0.5517\n",
            "tensor(0.6916) tensor(0.6915)\n",
            "=========\n",
            "epoch 21 train loss: 0.6870 val_cls: 0.6915 val_acc: 0.5517\n",
            "tensor(0.6915) tensor(0.6915)\n",
            "=========\n",
            "epoch 22 train loss: 0.6871 val_cls: 0.6916 val_acc: 0.5517\n",
            "tensor(0.6916) tensor(0.6915)\n",
            "=========\n",
            "epoch 23 train loss: 0.6871 val_cls: 0.6914 val_acc: 0.5517\n",
            "tensor(0.6914) tensor(0.6915)\n",
            "=========\n",
            "epoch 24 train loss: 0.6869 val_cls: 0.6914 val_acc: 0.5517\n",
            "tensor(0.6914) tensor(0.6914)\n",
            "=========\n",
            "epoch 25 train loss: 0.6869 val_cls: 0.6914 val_acc: 0.5517\n",
            "tensor(0.6914) tensor(0.6914)\n",
            "=========\n",
            "epoch 26 train loss: 0.6870 val_cls: 0.6913 val_acc: 0.5517\n",
            "tensor(0.6913) tensor(0.6914)\n",
            "=========\n",
            "epoch 27 train loss: 0.6871 val_cls: 0.6914 val_acc: 0.5517\n",
            "tensor(0.6914) tensor(0.6913)\n",
            "=========\n",
            "epoch 28 train loss: 0.6870 val_cls: 0.6913 val_acc: 0.5517\n",
            "tensor(0.6913) tensor(0.6913)\n",
            "=========\n",
            "epoch 29 train loss: 0.6869 val_cls: 0.6913 val_acc: 0.5517\n",
            "tensor(0.6913) tensor(0.6913)\n",
            "=========\n",
            "epoch 30 train loss: 0.6870 val_cls: 0.6913 val_acc: 0.5517\n",
            "tensor(0.6913) tensor(0.6913)\n",
            "=========\n",
            "epoch 31 train loss: 0.6869 val_cls: 0.6913 val_acc: 0.5517\n",
            "tensor(0.6913) tensor(0.6913)\n",
            "=========\n",
            "epoch 32 train loss: 0.6869 val_cls: 0.6913 val_acc: 0.5517\n",
            "tensor(0.6913) tensor(0.6913)\n",
            "=========\n",
            "epoch 33 train loss: 0.6868 val_cls: 0.6913 val_acc: 0.5517\n",
            "tensor(0.6913) tensor(0.6913)\n",
            "=========\n",
            "epoch 34 train loss: 0.6868 val_cls: 0.6913 val_acc: 0.5517\n",
            "tensor(0.6913) tensor(0.6913)\n",
            "=========\n",
            "epoch 35 train loss: 0.6868 val_cls: 0.6913 val_acc: 0.5517\n",
            "tensor(0.6913) tensor(0.6913)\n",
            "=========\n",
            "epoch 36 train loss: 0.6868 val_cls: 0.6913 val_acc: 0.5517\n",
            "tensor(0.6913) tensor(0.6913)\n",
            "=========\n",
            "epoch 37 train loss: 0.6868 val_cls: 0.6913 val_acc: 0.5517\n",
            "tensor(0.6913) tensor(0.6913)\n",
            "=========\n",
            "epoch 38 train loss: 0.6868 val_cls: 0.6912 val_acc: 0.5517\n",
            "tensor(0.6912) tensor(0.6913)\n",
            "=========\n",
            "epoch 39 train loss: 0.6868 val_cls: 0.6913 val_acc: 0.5517\n",
            "tensor(0.6913) tensor(0.6912)\n",
            "=========\n",
            "epoch 40 train loss: 0.6868 val_cls: 0.6912 val_acc: 0.5517\n",
            "tensor(0.6912) tensor(0.6912)\n",
            "=========\n",
            "epoch 41 train loss: 0.6869 val_cls: 0.6913 val_acc: 0.5517\n",
            "tensor(0.6913) tensor(0.6912)\n",
            "=========\n",
            "epoch 42 train loss: 0.6868 val_cls: 0.6913 val_acc: 0.5517\n",
            "tensor(0.6913) tensor(0.6912)\n",
            "=========\n",
            "epoch 43 train loss: 0.6868 val_cls: 0.6913 val_acc: 0.5517\n",
            "tensor(0.6913) tensor(0.6912)\n",
            "=========\n",
            "epoch 44 train loss: 0.6869 val_cls: 0.6914 val_acc: 0.5517\n",
            "tensor(0.6914) tensor(0.6912)\n",
            "=========\n",
            "epoch 45 train loss: 0.6868 val_cls: 0.6913 val_acc: 0.5517\n",
            "tensor(0.6913) tensor(0.6912)\n",
            "EARLY STOPPING \n"
          ]
        }
      ]
    },
    {
      "cell_type": "code",
      "source": [
        "plt.plot(history['val_cls'],  label='val')\n",
        "plt.plot(history['train_loss'], label='train')\n",
        "plt.title('Loss')\n",
        "plt.xlabel('Epochs')\n",
        "plt.ylabel('Loss')\n",
        "plt.legend()\n",
        "plt.show()"
      ],
      "metadata": {
        "colab": {
          "base_uri": "https://localhost:8080/",
          "height": 295
        },
        "id": "USN6iJt78LDp",
        "outputId": "b9565e09-f27b-4ed9-a592-e9fd0e9399a3"
      },
      "execution_count": 38,
      "outputs": [
        {
          "output_type": "display_data",
          "data": {
            "text/plain": [
              "<Figure size 432x288 with 1 Axes>"
            ],
            "image/png": "[encoded data removed]"
          },
          "metadata": {
            "needs_background": "light"
          }
        }
      ]
    },
    {
      "cell_type": "code",
      "source": [
        "pred = utils.test(simple_rnn, test_iter)\n",
        "pred = np.argmax(pred, axis=1)\n",
        "\n",
        "print(accuracy_score(y_pred=pred, y_true=y_test))"
      ],
      "metadata": {
        "colab": {
          "base_uri": "https://localhost:8080/"
        },
        "id": "awJLiPc18Sfw",
        "outputId": "a5b3e5c3-46ff-45f1-9fc1-2b77508d0dbd"
      },
      "execution_count": 39,
      "outputs": [
        {
          "output_type": "stream",
          "name": "stdout",
          "text": [
            "0.5517241379310345\n"
          ]
        }
      ]
    },
    {
      "cell_type": "markdown",
      "source": [
        "Accuracy does not improve, the curve flattens out quickly and the added epochs combined with a less severe learning rate is not beneficial. Let's try one more model, with less epochs, a high learning rate and a lower patience:"
      ],
      "metadata": {
        "id": "YE9JMwrK8UV2"
      }
    },
    {
      "cell_type": "code",
      "source": [
        "simple_rnn = SimpleRNN(emb_dim=20)\n",
        "\n",
        "simple_rnn = simple_rnn.cuda()\n",
        "\n",
        "history = utils.train(model=simple_rnn,\n",
        "              loss=nn.CrossEntropyLoss(),\n",
        "              val_metrics={\"cls\": nn.CrossEntropyLoss(), \"acc\": val_acc}, \n",
        "              optimizer=torch.optim.Adam(simple_rnn.parameters(), lr=5e-4),\n",
        "              train_ds=train_iter, \n",
        "              dev_ds=dev_iter,\n",
        "              num_epochs=40,\n",
        "              early_stopper=utils.EarlyStopper(metric_name=\"cls\", patience=5))"
      ],
      "metadata": {
        "colab": {
          "base_uri": "https://localhost:8080/"
        },
        "id": "AIEyJihi8mze",
        "outputId": "b7a84e7b-6b08-48b2-bbf9-027a3b5091a9"
      },
      "execution_count": 44,
      "outputs": [
        {
          "output_type": "stream",
          "name": "stdout",
          "text": [
            "=========\n",
            "epoch 1 train loss: 0.6987 val_cls: 0.6899 val_acc: 0.5287\n",
            "tensor(0.6899) None\n",
            "=========\n",
            "epoch 2 train loss: 0.6925 val_cls: 0.6873 val_acc: 0.5517\n",
            "tensor(0.6873) tensor(0.6899)\n",
            "=========\n",
            "epoch 3 train loss: 0.6909 val_cls: 0.6866 val_acc: 0.5517\n",
            "tensor(0.6866) tensor(0.6873)\n",
            "=========\n",
            "epoch 4 train loss: 0.6904 val_cls: 0.6866 val_acc: 0.5517\n",
            "tensor(0.6866) tensor(0.6866)\n",
            "=========\n",
            "epoch 5 train loss: 0.6891 val_cls: 0.6872 val_acc: 0.5517\n",
            "tensor(0.6872) tensor(0.6866)\n",
            "=========\n",
            "epoch 6 train loss: 0.6885 val_cls: 0.6878 val_acc: 0.5517\n",
            "tensor(0.6878) tensor(0.6866)\n",
            "=========\n",
            "epoch 7 train loss: 0.6880 val_cls: 0.6882 val_acc: 0.5517\n",
            "tensor(0.6882) tensor(0.6866)\n",
            "=========\n",
            "epoch 8 train loss: 0.6880 val_cls: 0.6885 val_acc: 0.5517\n",
            "tensor(0.6885) tensor(0.6866)\n",
            "=========\n",
            "epoch 9 train loss: 0.6877 val_cls: 0.6891 val_acc: 0.5517\n",
            "tensor(0.6891) tensor(0.6866)\n",
            "EARLY STOPPING \n"
          ]
        }
      ]
    },
    {
      "cell_type": "code",
      "source": [
        "plt.plot(history['val_cls'],  label='val')\n",
        "plt.plot(history['train_loss'], label='train')\n",
        "plt.title('Loss')\n",
        "plt.xlabel('Epochs')\n",
        "plt.ylabel('Loss')\n",
        "plt.legend()\n",
        "plt.show()"
      ],
      "metadata": {
        "colab": {
          "base_uri": "https://localhost:8080/",
          "height": 295
        },
        "id": "W9Big7mb84J7",
        "outputId": "196ba304-0b68-4699-cb26-cbd6bd3ce41f"
      },
      "execution_count": 45,
      "outputs": [
        {
          "output_type": "display_data",
          "data": {
            "text/plain": [
              "<Figure size 432x288 with 1 Axes>"
            ],
            "image/png": "[encoded data removed]"
          },
          "metadata": {
            "needs_background": "light"
          }
        }
      ]
    },
    {
      "cell_type": "code",
      "source": [
        "pred = utils.test(simple_rnn, test_iter)\n",
        "pred = np.argmax(pred, axis=1)\n",
        "\n",
        "print(accuracy_score(y_pred=pred, y_true=y_test))"
      ],
      "metadata": {
        "colab": {
          "base_uri": "https://localhost:8080/"
        },
        "id": "JBkA11HZ9hYL",
        "outputId": "778ef46a-9c8a-4bb8-cddb-846542bd02d9"
      },
      "execution_count": 46,
      "outputs": [
        {
          "output_type": "stream",
          "name": "stdout",
          "text": [
            "0.5517241379310345\n"
          ]
        }
      ]
    },
    {
      "cell_type": "markdown",
      "source": [
        "Still the same accuracy, however the model does early stop after epoch 9 here.\n",
        "\n",
        "Simple RNN models are not great at long sequences, so to finish it is probably a good idea to run an LSTM model and see if that has any impact."
      ],
      "metadata": {
        "id": "bOG4gvh89lFN"
      }
    },
    {
      "cell_type": "code",
      "source": [
        "class LSTM(nn.Module):\n",
        "  def __init__(self, emb_dim=50):\n",
        "    super(LSTM, self).__init__()\n",
        "\n",
        "    self.embeddings = nn.Embedding(num_embeddings=num_words, \n",
        "                                   embedding_dim=emb_dim, padding_idx=0)\n",
        "    \n",
        "    self.rnn = nn.LSTM(input_size=emb_dim, hidden_size=emb_dim, num_layers=1,\n",
        "                      batch_first=True)\n",
        "    \n",
        "    self.linear_layer = nn.Linear(in_features=emb_dim, out_features=2)\n",
        "    \n",
        "\n",
        "  def forward(self, x):\n",
        "    len_x = (x !=0).sum(1)\n",
        "\n",
        "\n",
        "    x = self.embeddings(x)\n",
        "\n",
        "    x = pack_padded_sequence(x, len_x.cpu(), batch_first=True, \n",
        "                             enforce_sorted=False)\n",
        "    _, (x, _) = self.rnn(x)\n",
        "    x = x[0]\n",
        "    return self.linear_layer(x)"
      ],
      "metadata": {
        "id": "e-tJGKHX97AO"
      },
      "execution_count": 47,
      "outputs": []
    },
    {
      "cell_type": "code",
      "source": [
        "lstm = LSTM(emb_dim=50)\n",
        "\n",
        "lstm = lstm.cuda()\n",
        "\n",
        "history = utils.train(model=lstm,\n",
        "              loss=nn.CrossEntropyLoss(),\n",
        "              val_metrics={\"cls\": nn.CrossEntropyLoss(), \"acc\": val_acc}, \n",
        "              optimizer=torch.optim.Adam(lstm.parameters(), lr=0.001),\n",
        "              train_ds=train_iter, \n",
        "              dev_ds=dev_iter,\n",
        "              num_epochs=40,\n",
        "              early_stopper=utils.EarlyStopper(metric_name=\"cls\", patience=5))"
      ],
      "metadata": {
        "colab": {
          "base_uri": "https://localhost:8080/"
        },
        "id": "mj6mHhUv-Cph",
        "outputId": "b286dee7-4d99-418e-a14d-1028f538d26c"
      },
      "execution_count": 50,
      "outputs": [
        {
          "output_type": "stream",
          "name": "stdout",
          "text": [
            "=========\n",
            "epoch 1 train loss: 0.6977 val_cls: 0.6872 val_acc: 0.5172\n",
            "tensor(0.6872) None\n",
            "=========\n",
            "epoch 2 train loss: 0.6916 val_cls: 0.6893 val_acc: 0.5517\n",
            "tensor(0.6893) tensor(0.6872)\n",
            "=========\n",
            "epoch 3 train loss: 0.6886 val_cls: 0.6893 val_acc: 0.5517\n",
            "tensor(0.6893) tensor(0.6872)\n",
            "=========\n",
            "epoch 4 train loss: 0.6883 val_cls: 0.6909 val_acc: 0.5402\n",
            "tensor(0.6909) tensor(0.6872)\n",
            "=========\n",
            "epoch 5 train loss: 0.6867 val_cls: 0.6913 val_acc: 0.5517\n",
            "tensor(0.6913) tensor(0.6872)\n",
            "=========\n",
            "epoch 6 train loss: 0.6865 val_cls: 0.6921 val_acc: 0.5287\n",
            "tensor(0.6921) tensor(0.6872)\n",
            "EARLY STOPPING \n"
          ]
        }
      ]
    },
    {
      "cell_type": "code",
      "source": [
        "plt.plot(history['val_cls'],  label='val')\n",
        "plt.plot(history['train_loss'], label='train')\n",
        "plt.title('Loss')\n",
        "plt.xlabel('Epochs')\n",
        "plt.ylabel('Loss')\n",
        "plt.legend()\n",
        "plt.show()"
      ],
      "metadata": {
        "colab": {
          "base_uri": "https://localhost:8080/",
          "height": 295
        },
        "id": "cahldDJq-THt",
        "outputId": "599c357b-e20f-4c12-92d2-861433194988"
      },
      "execution_count": 51,
      "outputs": [
        {
          "output_type": "display_data",
          "data": {
            "text/plain": [
              "<Figure size 432x288 with 1 Axes>"
            ],
            "image/png": "[encoded data removed]"
          },
          "metadata": {
            "needs_background": "light"
          }
        }
      ]
    },
    {
      "cell_type": "markdown",
      "source": [
        "The train data does improve but the val now ascends which is not good."
      ],
      "metadata": {
        "id": "M05USe2f-iov"
      }
    },
    {
      "cell_type": "markdown",
      "source": [
        "The data is by now overtrained and will not yield better results anymore. The accuracy of the model is dissapointing, the classical model does perform a lot better regarding this task."
      ],
      "metadata": {
        "id": "GSDM4JK6-wf5"
      }
    },
    {
      "cell_type": "code",
      "source": [
        "lstm = LSTM(emb_dim=300)\n",
        "\n",
        "lstm = lstm.cuda()\n",
        "\n",
        "history = utils.train(model=lstm,\n",
        "              loss=nn.CrossEntropyLoss(),\n",
        "              val_metrics={\"cls\": nn.CrossEntropyLoss(), \"acc\": val_acc}, \n",
        "              optimizer=torch.optim.Adam(lstm.parameters(), lr=0.0001),\n",
        "              train_ds=train_iter, \n",
        "              dev_ds=dev_iter,\n",
        "              num_epochs=100,\n",
        "              early_stopper=utils.EarlyStopper(metric_name=\"cls\", patience=10))"
      ],
      "metadata": {
        "colab": {
          "base_uri": "https://localhost:8080/"
        },
        "id": "dh9bPvGe_fwA",
        "outputId": "d04372b7-edb8-4238-e0d7-daa16bfe6383"
      },
      "execution_count": 56,
      "outputs": [
        {
          "output_type": "stream",
          "name": "stdout",
          "text": [
            "=========\n",
            "epoch 1 train loss: 0.6941 val_cls: 0.6874 val_acc: 0.5402\n",
            "tensor(0.6874) None\n",
            "=========\n",
            "epoch 2 train loss: 0.6928 val_cls: 0.6903 val_acc: 0.5517\n",
            "tensor(0.6903) tensor(0.6874)\n",
            "=========\n",
            "epoch 3 train loss: 0.6898 val_cls: 0.6927 val_acc: 0.4943\n",
            "tensor(0.6927) tensor(0.6874)\n",
            "=========\n",
            "epoch 4 train loss: 0.6901 val_cls: 0.6905 val_acc: 0.5517\n",
            "tensor(0.6905) tensor(0.6874)\n",
            "=========\n",
            "epoch 5 train loss: 0.6885 val_cls: 0.6931 val_acc: 0.4943\n",
            "tensor(0.6931) tensor(0.6874)\n",
            "=========\n",
            "epoch 6 train loss: 0.6883 val_cls: 0.6933 val_acc: 0.4943\n",
            "tensor(0.6933) tensor(0.6874)\n",
            "=========\n",
            "epoch 7 train loss: 0.6874 val_cls: 0.6935 val_acc: 0.4943\n",
            "tensor(0.6935) tensor(0.6874)\n",
            "=========\n",
            "epoch 8 train loss: 0.6877 val_cls: 0.6924 val_acc: 0.5517\n",
            "tensor(0.6924) tensor(0.6874)\n",
            "=========\n",
            "epoch 9 train loss: 0.6865 val_cls: 0.6946 val_acc: 0.4943\n",
            "tensor(0.6946) tensor(0.6874)\n",
            "=========\n",
            "epoch 10 train loss: 0.6861 val_cls: 0.6943 val_acc: 0.5287\n",
            "tensor(0.6943) tensor(0.6874)\n",
            "=========\n",
            "epoch 11 train loss: 0.6866 val_cls: 0.6942 val_acc: 0.5287\n",
            "tensor(0.6942) tensor(0.6874)\n",
            "EARLY STOPPING \n"
          ]
        }
      ]
    },
    {
      "cell_type": "code",
      "source": [
        "plt.plot(history['val_cls'],  label='val')\n",
        "plt.plot(history['train_loss'], label='train')\n",
        "plt.title('Loss')\n",
        "plt.xlabel('Epochs')\n",
        "plt.ylabel('Loss')\n",
        "plt.legend()\n",
        "plt.show()"
      ],
      "metadata": {
        "colab": {
          "base_uri": "https://localhost:8080/",
          "height": 295
        },
        "id": "CfS4yIfb_3nb",
        "outputId": "9df3d0eb-df1a-4998-dc53-2a79cfeadf08"
      },
      "execution_count": 57,
      "outputs": [
        {
          "output_type": "display_data",
          "data": {
            "text/plain": [
              "<Figure size 432x288 with 1 Axes>"
            ],
            "image/png": "[encoded data removed]"
          },
          "metadata": {
            "needs_background": "light"
          }
        }
      ]
    },
    {
      "cell_type": "markdown",
      "source": [
        "The model is still very big, lets look at an average model and average all the input embeddings:"
      ],
      "metadata": {
        "id": "KjpwH8_PAgrj"
      }
    },
    {
      "cell_type": "code",
      "source": [
        "class AverageModel(nn.Module):\n",
        "  def __init__(self, emb_dim=50):\n",
        "    super(AverageModel, self).__init__()\n",
        "\n",
        "    self.embeddings = nn.Embedding(num_embeddings=num_words, \n",
        "                                   embedding_dim=emb_dim, padding_idx=0)\n",
        "    \n",
        "    self.layer = nn.Sequential(nn.Linear(in_features=emb_dim, out_features=emb_dim), \n",
        "                                nn.ReLU(),\n",
        "                                nn.Linear(in_features=emb_dim, out_features=2))\n",
        "    \n",
        "\n",
        "  def forward(self, x):\n",
        "    # later we are going to mask zeros in the input to calculate average\n",
        "    mask = x != 0\n",
        "    x = self.embeddings(x)\n",
        "    x = x.sum(dim=1)/mask.sum(dim=1,  keepdim=True)\n",
        "    return self.layer(x)"
      ],
      "metadata": {
        "id": "b6AUktJ6AEFV"
      },
      "execution_count": 58,
      "outputs": []
    },
    {
      "cell_type": "code",
      "source": [
        "average_model = AverageModel(emb_dim=300)\n",
        "\n",
        "average_model = average_model.cuda()\n",
        "\n",
        "history = utils.train(model=average_model,\n",
        "              loss=nn.CrossEntropyLoss(),\n",
        "              val_metrics={\"cls\": nn.CrossEntropyLoss(), \"acc\": val_acc}, \n",
        "              optimizer=torch.optim.Adam(average_model.parameters(), lr=0.0001),\n",
        "              train_ds=train_iter, \n",
        "              dev_ds=dev_iter,\n",
        "              num_epochs=20,\n",
        "              early_stopper=utils.EarlyStopper(metric_name=\"cls\", patience=3))"
      ],
      "metadata": {
        "colab": {
          "base_uri": "https://localhost:8080/"
        },
        "id": "JZr7fUavAFxV",
        "outputId": "e34e3663-f028-4cb5-fbc7-81ff6f520333"
      },
      "execution_count": 59,
      "outputs": [
        {
          "output_type": "stream",
          "name": "stdout",
          "text": [
            "=========\n",
            "epoch 1 train loss: 0.7175 val_cls: 0.6998 val_acc: 0.5517\n",
            "tensor(0.6998) None\n",
            "=========\n",
            "epoch 2 train loss: 0.6958 val_cls: 0.6892 val_acc: 0.5517\n",
            "tensor(0.6892) tensor(0.6998)\n",
            "=========\n",
            "epoch 3 train loss: 0.6877 val_cls: 0.6910 val_acc: 0.5517\n",
            "tensor(0.6910) tensor(0.6892)\n",
            "=========\n",
            "epoch 4 train loss: 0.6898 val_cls: 0.6878 val_acc: 0.5517\n",
            "tensor(0.6878) tensor(0.6892)\n",
            "=========\n",
            "epoch 5 train loss: 0.6888 val_cls: 0.6881 val_acc: 0.5517\n",
            "tensor(0.6881) tensor(0.6878)\n",
            "=========\n",
            "epoch 6 train loss: 0.6897 val_cls: 0.6887 val_acc: 0.5517\n",
            "tensor(0.6887) tensor(0.6878)\n",
            "=========\n",
            "epoch 7 train loss: 0.6893 val_cls: 0.6888 val_acc: 0.5517\n",
            "tensor(0.6888) tensor(0.6878)\n",
            "EARLY STOPPING \n"
          ]
        }
      ]
    },
    {
      "cell_type": "code",
      "source": [
        "plt.plot(history['val_cls'],  label='val')\n",
        "plt.plot(history['train_loss'], label='train')\n",
        "plt.title('Loss')\n",
        "plt.xlabel('Epochs')\n",
        "plt.ylabel('Loss')\n",
        "plt.legend()\n",
        "plt.show()"
      ],
      "metadata": {
        "colab": {
          "base_uri": "https://localhost:8080/",
          "height": 295
        },
        "id": "XB0bkqwhAKn1",
        "outputId": "e8fb41a3-b168-46e5-8280-c840d8a9573b"
      },
      "execution_count": 60,
      "outputs": [
        {
          "output_type": "display_data",
          "data": {
            "text/plain": [
              "<Figure size 432x288 with 1 Axes>"
            ],
            "image/png": "[encoded data removed]"
          },
          "metadata": {
            "needs_background": "light"
          }
        }
      ]
    },
    {
      "cell_type": "code",
      "source": [
        "average_model = AverageModel(emb_dim=20)\n",
        "\n",
        "average_model = average_model.cuda()\n",
        "\n",
        "history = utils.train(model=average_model,\n",
        "              loss=nn.CrossEntropyLoss(),\n",
        "              val_metrics={\"cls\": nn.CrossEntropyLoss(), \"acc\": val_acc}, \n",
        "              optimizer=torch.optim.Adam(average_model.parameters(), lr=0.0001),\n",
        "              train_ds=train_iter, \n",
        "              dev_ds=dev_iter,\n",
        "              num_epochs=40,\n",
        "              early_stopper=utils.EarlyStopper(metric_name=\"cls\", patience=3))"
      ],
      "metadata": {
        "colab": {
          "base_uri": "https://localhost:8080/"
        },
        "id": "JakB9vH6Arfy",
        "outputId": "a4d3fc8a-4234-48d8-af42-216753414fb3"
      },
      "execution_count": 62,
      "outputs": [
        {
          "output_type": "stream",
          "name": "stdout",
          "text": [
            "=========\n",
            "epoch 1 train loss: 0.7269 val_cls: 0.7237 val_acc: 0.4483\n",
            "tensor(0.7237) None\n",
            "=========\n",
            "epoch 2 train loss: 0.7205 val_cls: 0.7176 val_acc: 0.4483\n",
            "tensor(0.7176) tensor(0.7237)\n",
            "=========\n",
            "epoch 3 train loss: 0.7145 val_cls: 0.7125 val_acc: 0.4483\n",
            "tensor(0.7125) tensor(0.7176)\n",
            "=========\n",
            "epoch 4 train loss: 0.7101 val_cls: 0.7076 val_acc: 0.4483\n",
            "tensor(0.7076) tensor(0.7125)\n",
            "=========\n",
            "epoch 5 train loss: 0.7059 val_cls: 0.7037 val_acc: 0.4483\n",
            "tensor(0.7037) tensor(0.7076)\n",
            "=========\n",
            "epoch 6 train loss: 0.7024 val_cls: 0.7004 val_acc: 0.4483\n",
            "tensor(0.7004) tensor(0.7037)\n",
            "=========\n",
            "epoch 7 train loss: 0.6991 val_cls: 0.6981 val_acc: 0.4483\n",
            "tensor(0.6981) tensor(0.7004)\n",
            "=========\n",
            "epoch 8 train loss: 0.6970 val_cls: 0.6958 val_acc: 0.4483\n",
            "tensor(0.6958) tensor(0.6981)\n",
            "=========\n",
            "epoch 9 train loss: 0.6949 val_cls: 0.6941 val_acc: 0.4483\n",
            "tensor(0.6941) tensor(0.6958)\n",
            "=========\n",
            "epoch 10 train loss: 0.6935 val_cls: 0.6926 val_acc: 0.5517\n",
            "tensor(0.6926) tensor(0.6941)\n",
            "=========\n",
            "epoch 11 train loss: 0.6922 val_cls: 0.6915 val_acc: 0.5517\n",
            "tensor(0.6915) tensor(0.6926)\n",
            "=========\n",
            "epoch 12 train loss: 0.6913 val_cls: 0.6905 val_acc: 0.5517\n",
            "tensor(0.6905) tensor(0.6915)\n",
            "=========\n",
            "epoch 13 train loss: 0.6905 val_cls: 0.6898 val_acc: 0.5517\n",
            "tensor(0.6898) tensor(0.6905)\n",
            "=========\n",
            "epoch 14 train loss: 0.6897 val_cls: 0.6894 val_acc: 0.5517\n",
            "tensor(0.6894) tensor(0.6898)\n",
            "=========\n",
            "epoch 15 train loss: 0.6893 val_cls: 0.6890 val_acc: 0.5517\n",
            "tensor(0.6890) tensor(0.6894)\n",
            "=========\n",
            "epoch 16 train loss: 0.6890 val_cls: 0.6887 val_acc: 0.5517\n",
            "tensor(0.6887) tensor(0.6890)\n",
            "=========\n",
            "epoch 17 train loss: 0.6887 val_cls: 0.6884 val_acc: 0.5517\n",
            "tensor(0.6884) tensor(0.6887)\n",
            "=========\n",
            "epoch 18 train loss: 0.6884 val_cls: 0.6883 val_acc: 0.5517\n",
            "tensor(0.6883) tensor(0.6884)\n",
            "=========\n",
            "epoch 19 train loss: 0.6883 val_cls: 0.6882 val_acc: 0.5517\n",
            "tensor(0.6882) tensor(0.6883)\n",
            "=========\n",
            "epoch 20 train loss: 0.6882 val_cls: 0.6881 val_acc: 0.5517\n",
            "tensor(0.6881) tensor(0.6882)\n",
            "=========\n",
            "epoch 21 train loss: 0.6881 val_cls: 0.6880 val_acc: 0.5517\n",
            "tensor(0.6880) tensor(0.6881)\n",
            "=========\n",
            "epoch 22 train loss: 0.6880 val_cls: 0.6879 val_acc: 0.5517\n",
            "tensor(0.6879) tensor(0.6880)\n",
            "=========\n",
            "epoch 23 train loss: 0.6880 val_cls: 0.6879 val_acc: 0.5517\n",
            "tensor(0.6879) tensor(0.6879)\n",
            "=========\n",
            "epoch 24 train loss: 0.6880 val_cls: 0.6879 val_acc: 0.5517\n",
            "tensor(0.6879) tensor(0.6879)\n",
            "=========\n",
            "epoch 25 train loss: 0.6880 val_cls: 0.6878 val_acc: 0.5517\n",
            "tensor(0.6878) tensor(0.6879)\n",
            "=========\n",
            "epoch 26 train loss: 0.6880 val_cls: 0.6878 val_acc: 0.5517\n",
            "tensor(0.6878) tensor(0.6878)\n",
            "=========\n",
            "epoch 27 train loss: 0.6879 val_cls: 0.6878 val_acc: 0.5517\n",
            "tensor(0.6878) tensor(0.6878)\n",
            "=========\n",
            "epoch 28 train loss: 0.6879 val_cls: 0.6878 val_acc: 0.5517\n",
            "tensor(0.6878) tensor(0.6878)\n",
            "=========\n",
            "epoch 29 train loss: 0.6879 val_cls: 0.6878 val_acc: 0.5517\n",
            "tensor(0.6878) tensor(0.6878)\n",
            "=========\n",
            "epoch 30 train loss: 0.6879 val_cls: 0.6878 val_acc: 0.5517\n",
            "tensor(0.6878) tensor(0.6878)\n",
            "=========\n",
            "epoch 31 train loss: 0.6879 val_cls: 0.6878 val_acc: 0.5517\n",
            "tensor(0.6878) tensor(0.6878)\n",
            "=========\n",
            "epoch 32 train loss: 0.6879 val_cls: 0.6878 val_acc: 0.5517\n",
            "tensor(0.6878) tensor(0.6878)\n",
            "=========\n",
            "epoch 33 train loss: 0.6879 val_cls: 0.6878 val_acc: 0.5517\n",
            "tensor(0.6878) tensor(0.6878)\n",
            "=========\n",
            "epoch 34 train loss: 0.6880 val_cls: 0.6878 val_acc: 0.5517\n",
            "tensor(0.6878) tensor(0.6878)\n",
            "EARLY STOPPING \n"
          ]
        }
      ]
    },
    {
      "cell_type": "code",
      "source": [
        "plt.plot(history['val_cls'],  label='val')\n",
        "plt.plot(history['train_loss'], label='train')\n",
        "plt.title('Loss')\n",
        "plt.xlabel('Epochs')\n",
        "plt.ylabel('Loss')\n",
        "plt.legend()\n",
        "plt.show()"
      ],
      "metadata": {
        "colab": {
          "base_uri": "https://localhost:8080/",
          "height": 295
        },
        "id": "FENGRolsAyzh",
        "outputId": "ce4410e1-6b75-41e8-bc0a-aae2ef2f3cbc"
      },
      "execution_count": 63,
      "outputs": [
        {
          "output_type": "display_data",
          "data": {
            "text/plain": [
              "<Figure size 432x288 with 1 Axes>"
            ],
            "image/png": "[encoded data removed]"
          },
          "metadata": {
            "needs_background": "light"
          }
        }
      ]
    },
    {
      "cell_type": "code",
      "source": [
        "pred = utils.test(average_model, test_iter)\n",
        "pred = np.argmax(pred, axis=1)\n",
        "\n",
        "print(accuracy_score(y_pred=pred, y_true=y_test))"
      ],
      "metadata": {
        "colab": {
          "base_uri": "https://localhost:8080/"
        },
        "id": "mTVC8dI9A3U9",
        "outputId": "d5dc25ff-8977-4df4-8ec6-c4892e33c6d5"
      },
      "execution_count": 68,
      "outputs": [
        {
          "output_type": "stream",
          "name": "stdout",
          "text": [
            "0.5517241379310345\n"
          ]
        }
      ]
    },
    {
      "cell_type": "markdown",
      "source": [
        "Accuracy does not improve although the curve is good. The model in comparison to its baseline is not as good and not usable as a result for this task."
      ],
      "metadata": {
        "id": "r_ysRjGLBXwB"
      }
    }
  ]
}