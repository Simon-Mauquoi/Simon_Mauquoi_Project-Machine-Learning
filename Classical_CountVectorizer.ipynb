{
 "cells": [
  {
   "cell_type": "markdown",
   "id": "05cfabba",
   "metadata": {},
   "source": [
    "# Classical: CountVectorizer\n",
    "\n",
    "### Simon Mauquoi"
   ]
  },
  {
   "cell_type": "code",
   "execution_count": 1,
   "id": "d8eaa803",
   "metadata": {},
   "outputs": [
    {
     "name": "stdout",
     "output_type": "stream",
     "text": [
      "1.0.2\n"
     ]
    }
   ],
   "source": [
    "import pandas as pd\n",
    "import numpy as np\n",
    "import matplotlib.pyplot as plt\n",
    "%matplotlib inline\n",
    "import sklearn \n",
    "print(sklearn.__version__)"
   ]
  },
  {
   "cell_type": "code",
   "execution_count": 2,
   "id": "dca655ce",
   "metadata": {},
   "outputs": [],
   "source": [
    "from sklearn.feature_extraction.text import CountVectorizer"
   ]
  },
  {
   "cell_type": "code",
   "execution_count": 3,
   "id": "58360f1b",
   "metadata": {},
   "outputs": [
    {
     "data": {
      "text/html": [
       "<div>\n",
       "<style scoped>\n",
       "    .dataframe tbody tr th:only-of-type {\n",
       "        vertical-align: middle;\n",
       "    }\n",
       "\n",
       "    .dataframe tbody tr th {\n",
       "        vertical-align: top;\n",
       "    }\n",
       "\n",
       "    .dataframe thead th {\n",
       "        text-align: right;\n",
       "    }\n",
       "</style>\n",
       "<table border=\"1\" class=\"dataframe\">\n",
       "  <thead>\n",
       "    <tr style=\"text-align: right;\">\n",
       "      <th></th>\n",
       "      <th>Date</th>\n",
       "      <th>President</th>\n",
       "      <th>Party</th>\n",
       "      <th>Title</th>\n",
       "      <th>Transcript</th>\n",
       "    </tr>\n",
       "  </thead>\n",
       "  <tbody>\n",
       "    <tr>\n",
       "      <th>0</th>\n",
       "      <td>1829-03-04</td>\n",
       "      <td>Andrew Jackson</td>\n",
       "      <td>0</td>\n",
       "      <td>First Inaugural Address</td>\n",
       "      <td>Fellow Citizens: About to undertake the arduou...</td>\n",
       "    </tr>\n",
       "    <tr>\n",
       "      <th>1</th>\n",
       "      <td>1829-05-11</td>\n",
       "      <td>Andrew Jackson</td>\n",
       "      <td>0</td>\n",
       "      <td>Proclamation Regarding Duties on Austrian Vessels</td>\n",
       "      <td>Whereas by an act of the Congress of the Unite...</td>\n",
       "    </tr>\n",
       "    <tr>\n",
       "      <th>2</th>\n",
       "      <td>1829-12-08</td>\n",
       "      <td>Andrew Jackson</td>\n",
       "      <td>0</td>\n",
       "      <td>First Annual Message to Congress</td>\n",
       "      <td>Fellow citizens of the Senate and House of Rep...</td>\n",
       "    </tr>\n",
       "    <tr>\n",
       "      <th>3</th>\n",
       "      <td>1830-05-06</td>\n",
       "      <td>Andrew Jackson</td>\n",
       "      <td>0</td>\n",
       "      <td>Message Regarding Treaties with the Choctaw Na...</td>\n",
       "      <td>To the Senate of the United States. The accomp...</td>\n",
       "    </tr>\n",
       "    <tr>\n",
       "      <th>4</th>\n",
       "      <td>1830-05-27</td>\n",
       "      <td>Andrew Jackson</td>\n",
       "      <td>0</td>\n",
       "      <td>Veto Message Regarding Funding of Infrastructu...</td>\n",
       "      <td>To the House of Representatives. I have mature...</td>\n",
       "    </tr>\n",
       "  </tbody>\n",
       "</table>\n",
       "</div>"
      ],
      "text/plain": [
       "         Date       President  Party  \\\n",
       "0  1829-03-04  Andrew Jackson      0   \n",
       "1  1829-05-11  Andrew Jackson      0   \n",
       "2  1829-12-08  Andrew Jackson      0   \n",
       "3  1830-05-06  Andrew Jackson      0   \n",
       "4  1830-05-27  Andrew Jackson      0   \n",
       "\n",
       "                                               Title  \\\n",
       "0                            First Inaugural Address   \n",
       "1  Proclamation Regarding Duties on Austrian Vessels   \n",
       "2                   First Annual Message to Congress   \n",
       "3  Message Regarding Treaties with the Choctaw Na...   \n",
       "4  Veto Message Regarding Funding of Infrastructu...   \n",
       "\n",
       "                                          Transcript  \n",
       "0  Fellow Citizens: About to undertake the arduou...  \n",
       "1  Whereas by an act of the Congress of the Unite...  \n",
       "2  Fellow citizens of the Senate and House of Rep...  \n",
       "3  To the Senate of the United States. The accomp...  \n",
       "4  To the House of Representatives. I have mature...  "
      ]
     },
     "execution_count": 3,
     "metadata": {},
     "output_type": "execute_result"
    }
   ],
   "source": [
    "speech = pd.read_csv(\"cleaned_speeches.csv\")\n",
    "speech.head()"
   ]
  },
  {
   "cell_type": "markdown",
   "id": "37c83fd5",
   "metadata": {},
   "source": [
    "## Pipeline"
   ]
  },
  {
   "cell_type": "code",
   "execution_count": 4,
   "id": "958b464d",
   "metadata": {},
   "outputs": [
    {
     "data": {
      "text/plain": [
       "((867,), (867,))"
      ]
     },
     "execution_count": 4,
     "metadata": {},
     "output_type": "execute_result"
    }
   ],
   "source": [
    "y = speech.Party\n",
    "X = speech.Transcript\n",
    "X.shape, y.shape"
   ]
  },
  {
   "cell_type": "code",
   "execution_count": 5,
   "id": "16f089bc",
   "metadata": {},
   "outputs": [
    {
     "data": {
      "text/plain": [
       "((693,), (174,), (693,), (174,))"
      ]
     },
     "execution_count": 5,
     "metadata": {},
     "output_type": "execute_result"
    }
   ],
   "source": [
    "from sklearn.model_selection import train_test_split\n",
    "\n",
    "X_train, X_test, y_train, y_test = train_test_split(X, y, test_size=.20, shuffle=True, random_state=48)\n",
    "X_train.shape, X_test.shape, y_train.shape, y_test.shape"
   ]
  },
  {
   "cell_type": "code",
   "execution_count": 6,
   "id": "3adb42be",
   "metadata": {},
   "outputs": [],
   "source": [
    "from sklearn.pipeline import make_pipeline\n",
    "from sklearn.preprocessing import MaxAbsScaler\n",
    "from sklearn.linear_model import SGDClassifier\n",
    "from sklearn.model_selection import cross_val_score, train_test_split, GridSearchCV, RandomizedSearchCV\n",
    "from sklearn.metrics import classification_report, accuracy_score, ConfusionMatrixDisplay\n",
    "\n",
    "vect = CountVectorizer()\n",
    "scaler = MaxAbsScaler()\n",
    "clf = SGDClassifier(random_state=48)\n",
    "\n",
    "pipe = make_pipeline(vect, scaler, clf)"
   ]
  },
  {
   "cell_type": "code",
   "execution_count": 7,
   "id": "4f3a8ea6",
   "metadata": {},
   "outputs": [
    {
     "data": {
      "text/plain": [
       "{'countvectorizer': CountVectorizer(),\n",
       " 'maxabsscaler': MaxAbsScaler(),\n",
       " 'sgdclassifier': SGDClassifier(random_state=48)}"
      ]
     },
     "execution_count": 7,
     "metadata": {},
     "output_type": "execute_result"
    }
   ],
   "source": [
    "pipe.named_steps"
   ]
  },
  {
   "cell_type": "code",
   "execution_count": 8,
   "id": "df53d9ae",
   "metadata": {},
   "outputs": [],
   "source": [
    "params = [{\n",
    "    #'countvectorizer__analyzer': ['word', 'char'],\n",
    "    'countvectorizer__ngram_range': [(1, 1), (1, 2)],\n",
    "    'sgdclassifier__penalty': ['l2', 'l1', 'elasticnet'],\n",
    "    'sgdclassifier__loss': ['hinge', 'log', 'perceptron'] # with hinge it's an svm, with log it's logistic regression\n",
    "    }]"
   ]
  },
  {
   "cell_type": "code",
   "execution_count": 9,
   "id": "90138712",
   "metadata": {},
   "outputs": [
    {
     "name": "stdout",
     "output_type": "stream",
     "text": [
      "Fitting 5 folds for each of 18 candidates, totalling 90 fits\n"
     ]
    },
    {
     "data": {
      "text/plain": [
       "GridSearchCV(cv=5,\n",
       "             estimator=Pipeline(steps=[('countvectorizer', CountVectorizer()),\n",
       "                                       ('maxabsscaler', MaxAbsScaler()),\n",
       "                                       ('sgdclassifier',\n",
       "                                        SGDClassifier(random_state=48))]),\n",
       "             n_jobs=-1,\n",
       "             param_grid=[{'countvectorizer__ngram_range': [(1, 1), (1, 2)],\n",
       "                          'sgdclassifier__loss': ['hinge', 'log', 'perceptron'],\n",
       "                          'sgdclassifier__penalty': ['l2', 'l1',\n",
       "                                                     'elasticnet']}],\n",
       "             scoring='f1_macro', verbose=1)"
      ]
     },
     "execution_count": 9,
     "metadata": {},
     "output_type": "execute_result"
    }
   ],
   "source": [
    "gs = GridSearchCV(pipe, params, cv=5, scoring='f1_macro', n_jobs=-1, refit=True, verbose=1)\n",
    "gs.fit(X_train, y_train)"
   ]
  },
  {
   "cell_type": "code",
   "execution_count": 10,
   "id": "ac3d0397",
   "metadata": {},
   "outputs": [
    {
     "data": {
      "text/plain": [
       "Pipeline(steps=[('countvectorizer', CountVectorizer(ngram_range=(1, 2))),\n",
       "                ('maxabsscaler', MaxAbsScaler()),\n",
       "                ('sgdclassifier', SGDClassifier(loss='log', random_state=48))])"
      ]
     },
     "execution_count": 10,
     "metadata": {},
     "output_type": "execute_result"
    }
   ],
   "source": [
    "gs.best_estimator_"
   ]
  },
  {
   "cell_type": "code",
   "execution_count": 11,
   "id": "c9329412",
   "metadata": {},
   "outputs": [
    {
     "data": {
      "text/plain": [
       "0.8800125914128353"
      ]
     },
     "execution_count": 11,
     "metadata": {},
     "output_type": "execute_result"
    }
   ],
   "source": [
    "gs.best_score_"
   ]
  },
  {
   "cell_type": "code",
   "execution_count": 12,
   "id": "a86b6619",
   "metadata": {},
   "outputs": [
    {
     "data": {
      "text/plain": [
       "{'countvectorizer__ngram_range': (1, 2),\n",
       " 'sgdclassifier__loss': 'log',\n",
       " 'sgdclassifier__penalty': 'l2'}"
      ]
     },
     "execution_count": 12,
     "metadata": {},
     "output_type": "execute_result"
    }
   ],
   "source": [
    "gs.best_params_"
   ]
  },
  {
   "cell_type": "code",
   "execution_count": 13,
   "id": "44d55553",
   "metadata": {},
   "outputs": [
    {
     "name": "stdout",
     "output_type": "stream",
     "text": [
      "              precision    recall  f1-score   support\n",
      "\n",
      "           0       0.80      0.91      0.85        87\n",
      "           1       0.89      0.77      0.83        87\n",
      "\n",
      "    accuracy                           0.84       174\n",
      "   macro avg       0.85      0.84      0.84       174\n",
      "weighted avg       0.85      0.84      0.84       174\n",
      "\n"
     ]
    }
   ],
   "source": [
    "y_test_pred = gs.predict(X_test)\n",
    "print(classification_report(y_test, y_test_pred))"
   ]
  },
  {
   "cell_type": "code",
   "execution_count": 14,
   "id": "6ff87baa",
   "metadata": {},
   "outputs": [
    {
     "data": {
      "image/png": "[encoded data removed]",
      "text/plain": [
       "<Figure size 432x288 with 2 Axes>"
      ]
     },
     "metadata": {
      "needs_background": "light"
     },
     "output_type": "display_data"
    }
   ],
   "source": [
    "ConfusionMatrixDisplay.from_predictions(y_test, y_test_pred);"
   ]
  }
 ],
 "metadata": {
  "kernelspec": {
   "display_name": "Python 3 (ipykernel)",
   "language": "python",
   "name": "python3"
  },
  "language_info": {
   "codemirror_mode": {
    "name": "ipython",
    "version": 3
   },
   "file_extension": ".py",
   "mimetype": "text/x-python",
   "name": "python",
   "nbconvert_exporter": "python",
   "pygments_lexer": "ipython3",
   "version": "3.9.12"
  }
 },
 "nbformat": 4,
 "nbformat_minor": 5
}
